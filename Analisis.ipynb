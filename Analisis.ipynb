{
 "cells": [
  {
   "cell_type": "code",
   "execution_count": 1,
   "metadata": {},
   "outputs": [
    {
     "name": "stdout",
     "output_type": "stream",
     "text": [
      "Requirement already satisfied: ipywidgets in c:\\users\\carlos\\appdata\\local\\programs\\python\\python310\\lib\\site-packages (7.7.1)\n",
      "Requirement already satisfied: jupyterlab-widgets>=1.0.0 in c:\\users\\carlos\\appdata\\local\\programs\\python\\python310\\lib\\site-packages (from ipywidgets) (1.1.1)\n",
      "Requirement already satisfied: ipython>=4.0.0 in c:\\users\\carlos\\appdata\\local\\programs\\python\\python310\\lib\\site-packages (from ipywidgets) (8.4.0)\n",
      "Requirement already satisfied: ipykernel>=4.5.1 in c:\\users\\carlos\\appdata\\local\\programs\\python\\python310\\lib\\site-packages (from ipywidgets) (6.15.1)\n",
      "Requirement already satisfied: ipython-genutils~=0.2.0 in c:\\users\\carlos\\appdata\\local\\programs\\python\\python310\\lib\\site-packages (from ipywidgets) (0.2.0)\n",
      "Requirement already satisfied: traitlets>=4.3.1 in c:\\users\\carlos\\appdata\\local\\programs\\python\\python310\\lib\\site-packages (from ipywidgets) (5.3.0)\n",
      "Requirement already satisfied: widgetsnbextension~=3.6.0 in c:\\users\\carlos\\appdata\\local\\programs\\python\\python310\\lib\\site-packages (from ipywidgets) (3.6.1)\n",
      "Requirement already satisfied: tornado>=6.1 in c:\\users\\carlos\\appdata\\local\\programs\\python\\python310\\lib\\site-packages (from ipykernel>=4.5.1->ipywidgets) (6.2)\n",
      "Requirement already satisfied: psutil in c:\\users\\carlos\\appdata\\local\\programs\\python\\python310\\lib\\site-packages (from ipykernel>=4.5.1->ipywidgets) (5.9.1)\n",
      "Requirement already satisfied: matplotlib-inline>=0.1 in c:\\users\\carlos\\appdata\\local\\programs\\python\\python310\\lib\\site-packages (from ipykernel>=4.5.1->ipywidgets) (0.1.3)\n",
      "Requirement already satisfied: pyzmq>=17 in c:\\users\\carlos\\appdata\\local\\programs\\python\\python310\\lib\\site-packages (from ipykernel>=4.5.1->ipywidgets) (23.2.0)\n",
      "Requirement already satisfied: packaging in c:\\users\\carlos\\appdata\\local\\programs\\python\\python310\\lib\\site-packages (from ipykernel>=4.5.1->ipywidgets) (21.3)\n",
      "Requirement already satisfied: nest-asyncio in c:\\users\\carlos\\appdata\\local\\programs\\python\\python310\\lib\\site-packages (from ipykernel>=4.5.1->ipywidgets) (1.5.5)\n",
      "Requirement already satisfied: debugpy>=1.0 in c:\\users\\carlos\\appdata\\local\\programs\\python\\python310\\lib\\site-packages (from ipykernel>=4.5.1->ipywidgets) (1.6.2)\n",
      "Requirement already satisfied: jupyter-client>=6.1.12 in c:\\users\\carlos\\appdata\\local\\programs\\python\\python310\\lib\\site-packages (from ipykernel>=4.5.1->ipywidgets) (7.3.4)\n",
      "Requirement already satisfied: backcall in c:\\users\\carlos\\appdata\\local\\programs\\python\\python310\\lib\\site-packages (from ipython>=4.0.0->ipywidgets) (0.2.0)\n",
      "Requirement already satisfied: pygments>=2.4.0 in c:\\users\\carlos\\appdata\\local\\programs\\python\\python310\\lib\\site-packages (from ipython>=4.0.0->ipywidgets) (2.12.0)\n",
      "Requirement already satisfied: stack-data in c:\\users\\carlos\\appdata\\local\\programs\\python\\python310\\lib\\site-packages (from ipython>=4.0.0->ipywidgets) (0.3.0)\n",
      "Requirement already satisfied: prompt-toolkit!=3.0.0,!=3.0.1,<3.1.0,>=2.0.0 in c:\\users\\carlos\\appdata\\local\\programs\\python\\python310\\lib\\site-packages (from ipython>=4.0.0->ipywidgets) (3.0.30)\n",
      "Requirement already satisfied: colorama in c:\\users\\carlos\\appdata\\local\\programs\\python\\python310\\lib\\site-packages (from ipython>=4.0.0->ipywidgets) (0.4.5)\n",
      "Requirement already satisfied: decorator in c:\\users\\carlos\\appdata\\local\\programs\\python\\python310\\lib\\site-packages (from ipython>=4.0.0->ipywidgets) (5.1.1)\n",
      "Requirement already satisfied: setuptools>=18.5 in c:\\users\\carlos\\appdata\\local\\programs\\python\\python310\\lib\\site-packages (from ipython>=4.0.0->ipywidgets) (63.2.0)\n",
      "Requirement already satisfied: jedi>=0.16 in c:\\users\\carlos\\appdata\\local\\programs\\python\\python310\\lib\\site-packages (from ipython>=4.0.0->ipywidgets) (0.18.1)\n",
      "Requirement already satisfied: pickleshare in c:\\users\\carlos\\appdata\\local\\programs\\python\\python310\\lib\\site-packages (from ipython>=4.0.0->ipywidgets) (0.7.5)\n",
      "Requirement already satisfied: notebook>=4.4.1 in c:\\users\\carlos\\appdata\\local\\programs\\python\\python310\\lib\\site-packages (from widgetsnbextension~=3.6.0->ipywidgets) (6.4.12)\n",
      "Requirement already satisfied: parso<0.9.0,>=0.8.0 in c:\\users\\carlos\\appdata\\local\\programs\\python\\python310\\lib\\site-packages (from jedi>=0.16->ipython>=4.0.0->ipywidgets) (0.8.3)\n",
      "Requirement already satisfied: python-dateutil>=2.8.2 in c:\\users\\carlos\\appdata\\local\\programs\\python\\python310\\lib\\site-packages (from jupyter-client>=6.1.12->ipykernel>=4.5.1->ipywidgets) (2.8.2)\n",
      "Requirement already satisfied: entrypoints in c:\\users\\carlos\\appdata\\local\\programs\\python\\python310\\lib\\site-packages (from jupyter-client>=6.1.12->ipykernel>=4.5.1->ipywidgets) (0.4)\n",
      "Requirement already satisfied: jupyter-core>=4.9.2 in c:\\users\\carlos\\appdata\\local\\programs\\python\\python310\\lib\\site-packages (from jupyter-client>=6.1.12->ipykernel>=4.5.1->ipywidgets) (4.11.1)\n",
      "Requirement already satisfied: Send2Trash>=1.8.0 in c:\\users\\carlos\\appdata\\local\\programs\\python\\python310\\lib\\site-packages (from notebook>=4.4.1->widgetsnbextension~=3.6.0->ipywidgets) (1.8.0)\n",
      "Requirement already satisfied: nbformat in c:\\users\\carlos\\appdata\\local\\programs\\python\\python310\\lib\\site-packages (from notebook>=4.4.1->widgetsnbextension~=3.6.0->ipywidgets) (5.4.0)\n",
      "Requirement already satisfied: jinja2 in c:\\users\\carlos\\appdata\\local\\programs\\python\\python310\\lib\\site-packages (from notebook>=4.4.1->widgetsnbextension~=3.6.0->ipywidgets) (3.1.2)\n",
      "Requirement already satisfied: nbconvert>=5 in c:\\users\\carlos\\appdata\\local\\programs\\python\\python310\\lib\\site-packages (from notebook>=4.4.1->widgetsnbextension~=3.6.0->ipywidgets) (6.5.3)\n",
      "Requirement already satisfied: terminado>=0.8.3 in c:\\users\\carlos\\appdata\\local\\programs\\python\\python310\\lib\\site-packages (from notebook>=4.4.1->widgetsnbextension~=3.6.0->ipywidgets) (0.15.0)\n",
      "Requirement already satisfied: prometheus-client in c:\\users\\carlos\\appdata\\local\\programs\\python\\python310\\lib\\site-packages (from notebook>=4.4.1->widgetsnbextension~=3.6.0->ipywidgets) (0.14.1)\n",
      "Requirement already satisfied: argon2-cffi in c:\\users\\carlos\\appdata\\local\\programs\\python\\python310\\lib\\site-packages (from notebook>=4.4.1->widgetsnbextension~=3.6.0->ipywidgets) (21.3.0)\n",
      "Requirement already satisfied: wcwidth in c:\\users\\carlos\\appdata\\local\\programs\\python\\python310\\lib\\site-packages (from prompt-toolkit!=3.0.0,!=3.0.1,<3.1.0,>=2.0.0->ipython>=4.0.0->ipywidgets) (0.2.5)\n",
      "Requirement already satisfied: pyparsing!=3.0.5,>=2.0.2 in c:\\users\\carlos\\appdata\\local\\programs\\python\\python310\\lib\\site-packages (from packaging->ipykernel>=4.5.1->ipywidgets) (3.0.9)\n",
      "Requirement already satisfied: executing in c:\\users\\carlos\\appdata\\local\\programs\\python\\python310\\lib\\site-packages (from stack-data->ipython>=4.0.0->ipywidgets) (0.9.1)\n",
      "Requirement already satisfied: asttokens in c:\\users\\carlos\\appdata\\local\\programs\\python\\python310\\lib\\site-packages (from stack-data->ipython>=4.0.0->ipywidgets) (2.0.5)\n",
      "Requirement already satisfied: pure-eval in c:\\users\\carlos\\appdata\\local\\programs\\python\\python310\\lib\\site-packages (from stack-data->ipython>=4.0.0->ipywidgets) (0.2.2)\n",
      "Requirement already satisfied: pywin32>=1.0 in c:\\users\\carlos\\appdata\\local\\programs\\python\\python310\\lib\\site-packages (from jupyter-core>=4.9.2->jupyter-client>=6.1.12->ipykernel>=4.5.1->ipywidgets) (304)\n",
      "Requirement already satisfied: jupyterlab-pygments in c:\\users\\carlos\\appdata\\local\\programs\\python\\python310\\lib\\site-packages (from nbconvert>=5->notebook>=4.4.1->widgetsnbextension~=3.6.0->ipywidgets) (0.2.2)\n",
      "Requirement already satisfied: pandocfilters>=1.4.1 in c:\\users\\carlos\\appdata\\local\\programs\\python\\python310\\lib\\site-packages (from nbconvert>=5->notebook>=4.4.1->widgetsnbextension~=3.6.0->ipywidgets) (1.5.0)\n",
      "Requirement already satisfied: bleach in c:\\users\\carlos\\appdata\\local\\programs\\python\\python310\\lib\\site-packages (from nbconvert>=5->notebook>=4.4.1->widgetsnbextension~=3.6.0->ipywidgets) (5.0.1)\n",
      "Requirement already satisfied: lxml in c:\\users\\carlos\\appdata\\local\\programs\\python\\python310\\lib\\site-packages (from nbconvert>=5->notebook>=4.4.1->widgetsnbextension~=3.6.0->ipywidgets) (4.9.1)\n",
      "Requirement already satisfied: tinycss2 in c:\\users\\carlos\\appdata\\local\\programs\\python\\python310\\lib\\site-packages (from nbconvert>=5->notebook>=4.4.1->widgetsnbextension~=3.6.0->ipywidgets) (1.1.1)\n",
      "Requirement already satisfied: beautifulsoup4 in c:\\users\\carlos\\appdata\\local\\programs\\python\\python310\\lib\\site-packages (from nbconvert>=5->notebook>=4.4.1->widgetsnbextension~=3.6.0->ipywidgets) (4.11.1)\n",
      "Requirement already satisfied: MarkupSafe>=2.0 in c:\\users\\carlos\\appdata\\local\\programs\\python\\python310\\lib\\site-packages (from nbconvert>=5->notebook>=4.4.1->widgetsnbextension~=3.6.0->ipywidgets) (2.1.1)\n",
      "Requirement already satisfied: nbclient>=0.5.0 in c:\\users\\carlos\\appdata\\local\\programs\\python\\python310\\lib\\site-packages (from nbconvert>=5->notebook>=4.4.1->widgetsnbextension~=3.6.0->ipywidgets) (0.6.6)\n",
      "Requirement already satisfied: mistune<2,>=0.8.1 in c:\\users\\carlos\\appdata\\local\\programs\\python\\python310\\lib\\site-packages (from nbconvert>=5->notebook>=4.4.1->widgetsnbextension~=3.6.0->ipywidgets) (0.8.4)\n",
      "Requirement already satisfied: defusedxml in c:\\users\\carlos\\appdata\\local\\programs\\python\\python310\\lib\\site-packages (from nbconvert>=5->notebook>=4.4.1->widgetsnbextension~=3.6.0->ipywidgets) (0.7.1)\n",
      "Requirement already satisfied: jsonschema>=2.6 in c:\\users\\carlos\\appdata\\local\\programs\\python\\python310\\lib\\site-packages (from nbformat->notebook>=4.4.1->widgetsnbextension~=3.6.0->ipywidgets) (4.9.1)\n",
      "Requirement already satisfied: fastjsonschema in c:\\users\\carlos\\appdata\\local\\programs\\python\\python310\\lib\\site-packages (from nbformat->notebook>=4.4.1->widgetsnbextension~=3.6.0->ipywidgets) (2.16.1)\n",
      "Requirement already satisfied: six>=1.5 in c:\\users\\carlos\\appdata\\local\\programs\\python\\python310\\lib\\site-packages (from python-dateutil>=2.8.2->jupyter-client>=6.1.12->ipykernel>=4.5.1->ipywidgets) (1.16.0)\n",
      "Requirement already satisfied: pywinpty>=1.1.0 in c:\\users\\carlos\\appdata\\local\\programs\\python\\python310\\lib\\site-packages (from terminado>=0.8.3->notebook>=4.4.1->widgetsnbextension~=3.6.0->ipywidgets) (2.0.7)\n",
      "Requirement already satisfied: argon2-cffi-bindings in c:\\users\\carlos\\appdata\\local\\programs\\python\\python310\\lib\\site-packages (from argon2-cffi->notebook>=4.4.1->widgetsnbextension~=3.6.0->ipywidgets) (21.2.0)\n",
      "Requirement already satisfied: pyrsistent!=0.17.0,!=0.17.1,!=0.17.2,>=0.14.0 in c:\\users\\carlos\\appdata\\local\\programs\\python\\python310\\lib\\site-packages (from jsonschema>=2.6->nbformat->notebook>=4.4.1->widgetsnbextension~=3.6.0->ipywidgets) (0.18.1)\n",
      "Requirement already satisfied: attrs>=17.4.0 in c:\\users\\carlos\\appdata\\local\\programs\\python\\python310\\lib\\site-packages (from jsonschema>=2.6->nbformat->notebook>=4.4.1->widgetsnbextension~=3.6.0->ipywidgets) (22.1.0)\n",
      "Requirement already satisfied: cffi>=1.0.1 in c:\\users\\carlos\\appdata\\local\\programs\\python\\python310\\lib\\site-packages (from argon2-cffi-bindings->argon2-cffi->notebook>=4.4.1->widgetsnbextension~=3.6.0->ipywidgets) (1.15.1)\n",
      "Requirement already satisfied: soupsieve>1.2 in c:\\users\\carlos\\appdata\\local\\programs\\python\\python310\\lib\\site-packages (from beautifulsoup4->nbconvert>=5->notebook>=4.4.1->widgetsnbextension~=3.6.0->ipywidgets) (2.3.2.post1)\n",
      "Requirement already satisfied: webencodings in c:\\users\\carlos\\appdata\\local\\programs\\python\\python310\\lib\\site-packages (from bleach->nbconvert>=5->notebook>=4.4.1->widgetsnbextension~=3.6.0->ipywidgets) (0.5.1)\n",
      "Requirement already satisfied: pycparser in c:\\users\\carlos\\appdata\\local\\programs\\python\\python310\\lib\\site-packages (from cffi>=1.0.1->argon2-cffi-bindings->argon2-cffi->notebook>=4.4.1->widgetsnbextension~=3.6.0->ipywidgets) (2.21)\n"
     ]
    }
   ],
   "source": [
    "! pip install ipywidgets"
   ]
  },
  {
   "cell_type": "code",
   "execution_count": 2,
   "metadata": {},
   "outputs": [],
   "source": [
    "from ipywidgets import widgets\n",
    "import pandas as pd\n",
    "import numpy as np\n",
    "import matplotlib.pyplot as plt\n",
    "import seaborn as sns"
   ]
  },
  {
   "cell_type": "code",
   "execution_count": 3,
   "metadata": {},
   "outputs": [],
   "source": [
    "try:\n",
    "    datos = pd.read_csv('Datos\\Brecha_mintic.csv')\n",
    "except:\n",
    "    print('datos no encontrados')"
   ]
  },
  {
   "cell_type": "code",
   "execution_count": 4,
   "metadata": {},
   "outputs": [
    {
     "data": {
      "text/html": [
       "<div>\n",
       "<style scoped>\n",
       "    .dataframe tbody tr th:only-of-type {\n",
       "        vertical-align: middle;\n",
       "    }\n",
       "\n",
       "    .dataframe tbody tr th {\n",
       "        vertical-align: top;\n",
       "    }\n",
       "\n",
       "    .dataframe thead th {\n",
       "        text-align: right;\n",
       "    }\n",
       "</style>\n",
       "<table border=\"1\" class=\"dataframe\">\n",
       "  <thead>\n",
       "    <tr style=\"text-align: right;\">\n",
       "      <th></th>\n",
       "      <th>Municipios</th>\n",
       "      <th>Ocupación_CIUO</th>\n",
       "      <th>Cargo_identificado</th>\n",
       "      <th>Nivel_educativo</th>\n",
       "      <th>programas_formar_esta_ocupación</th>\n",
       "      <th>instituciones_que_ofrecen_ programa</th>\n",
       "      <th>Nivel_formación</th>\n",
       "      <th>Municipios_programa</th>\n",
       "      <th>Brecha_cantidad</th>\n",
       "    </tr>\n",
       "  </thead>\n",
       "  <tbody>\n",
       "    <tr>\n",
       "      <th>0</th>\n",
       "      <td>MANIZALES;MEDELLÍN</td>\n",
       "      <td>2529.PROFESIONALES EN BASES DE DATOS Y EN REDE...</td>\n",
       "      <td>ADMINISTRADOR DE BASES DE DATOS</td>\n",
       "      <td>TECNÓLOGO;TECNOLOGÍA EN SISTEMAS DE INFORMACIÓN</td>\n",
       "      <td>TECNOLOGÍA EN ANALISIS Y DESARROLLO DE SISTEMA...</td>\n",
       "      <td>POLITÉCNICO GRANCOLOMBIANO;INSTITUCIÓN UNIVERS...</td>\n",
       "      <td>TECNÓLOGO</td>\n",
       "      <td>MEDELLÍN</td>\n",
       "      <td>NO EXISTE BRECHA DE CANTIDAD</td>\n",
       "    </tr>\n",
       "    <tr>\n",
       "      <th>1</th>\n",
       "      <td>MANIZALES;MEDELLÍN</td>\n",
       "      <td>2529.PROFESIONALES EN BASES DE DATOS Y EN REDE...</td>\n",
       "      <td>ADMINISTRADOR DE BASES DE DATOS</td>\n",
       "      <td>TECNÓLOGO;TECNOLOGÍA EN SISTEMAS DE INFORMACIÓN</td>\n",
       "      <td>TECNOLOGÍA EN ANALISIS Y DESARROLLO DE SISTEMA...</td>\n",
       "      <td>SERVICIO NACIONAL DE APRENDIZAJE-SENA-;UNIVERS...</td>\n",
       "      <td>TECNÓLOGO</td>\n",
       "      <td>MANIZALES</td>\n",
       "      <td>TECNÓLOGO;TECNOLOGÍA EN DESARROLLO DE APLICACI...</td>\n",
       "    </tr>\n",
       "    <tr>\n",
       "      <th>2</th>\n",
       "      <td>MANIZALES;MEDELLÍN</td>\n",
       "      <td>2529.PROFESIONALES EN BASES DE DATOS Y EN REDE...</td>\n",
       "      <td>ADMINISTRADOR DE BASES DE DATOS</td>\n",
       "      <td>UNIVERSITARIO;INGENIERÍA DE SISTEMAS;INGENIERÍ...</td>\n",
       "      <td>INGENIERÍA ELECTRÓNICA</td>\n",
       "      <td>UNIVERSIDAD AUTÓNOMA DE MANIZALES</td>\n",
       "      <td>UNIVERSITARIO</td>\n",
       "      <td>MANIZALES</td>\n",
       "      <td>TECNÓLOGO;TECNOLOGÍA EN DESARROLLO DE APLICACI...</td>\n",
       "    </tr>\n",
       "  </tbody>\n",
       "</table>\n",
       "</div>"
      ],
      "text/plain": [
       "           Municipios                                     Ocupación_CIUO  \\\n",
       "0  MANIZALES;MEDELLÍN  2529.PROFESIONALES EN BASES DE DATOS Y EN REDE...   \n",
       "1  MANIZALES;MEDELLÍN  2529.PROFESIONALES EN BASES DE DATOS Y EN REDE...   \n",
       "2  MANIZALES;MEDELLÍN  2529.PROFESIONALES EN BASES DE DATOS Y EN REDE...   \n",
       "\n",
       "                Cargo_identificado  \\\n",
       "0  ADMINISTRADOR DE BASES DE DATOS   \n",
       "1  ADMINISTRADOR DE BASES DE DATOS   \n",
       "2  ADMINISTRADOR DE BASES DE DATOS   \n",
       "\n",
       "                                     Nivel_educativo  \\\n",
       "0    TECNÓLOGO;TECNOLOGÍA EN SISTEMAS DE INFORMACIÓN   \n",
       "1    TECNÓLOGO;TECNOLOGÍA EN SISTEMAS DE INFORMACIÓN   \n",
       "2  UNIVERSITARIO;INGENIERÍA DE SISTEMAS;INGENIERÍ...   \n",
       "\n",
       "                     programas_formar_esta_ocupación  \\\n",
       "0  TECNOLOGÍA EN ANALISIS Y DESARROLLO DE SISTEMA...   \n",
       "1  TECNOLOGÍA EN ANALISIS Y DESARROLLO DE SISTEMA...   \n",
       "2                             INGENIERÍA ELECTRÓNICA   \n",
       "\n",
       "                 instituciones_que_ofrecen_ programa Nivel_formación  \\\n",
       "0  POLITÉCNICO GRANCOLOMBIANO;INSTITUCIÓN UNIVERS...       TECNÓLOGO   \n",
       "1  SERVICIO NACIONAL DE APRENDIZAJE-SENA-;UNIVERS...       TECNÓLOGO   \n",
       "2                  UNIVERSIDAD AUTÓNOMA DE MANIZALES   UNIVERSITARIO   \n",
       "\n",
       "  Municipios_programa                                    Brecha_cantidad  \n",
       "0            MEDELLÍN                       NO EXISTE BRECHA DE CANTIDAD  \n",
       "1           MANIZALES  TECNÓLOGO;TECNOLOGÍA EN DESARROLLO DE APLICACI...  \n",
       "2           MANIZALES  TECNÓLOGO;TECNOLOGÍA EN DESARROLLO DE APLICACI...  "
      ]
     },
     "execution_count": 4,
     "metadata": {},
     "output_type": "execute_result"
    }
   ],
   "source": [
    "datos.head(3)"
   ]
  },
  {
   "cell_type": "markdown",
   "metadata": {},
   "source": [
    "### Limpieza de datos nominales\n",
    "***\n",
    "1. verificar tipos de datos \n",
    "2. limpiar datos nulos\n",
    "3. extraer `carrera universitara` y ultima `institucion asistida `\n"
   ]
  },
  {
   "cell_type": "markdown",
   "metadata": {},
   "source": [
    "1. Verificar tipos de datos"
   ]
  },
  {
   "cell_type": "code",
   "execution_count": 5,
   "metadata": {},
   "outputs": [
    {
     "data": {
      "text/plain": [
       "Municipios                             object\n",
       "Ocupación_CIUO                         object\n",
       "Cargo_identificado                     object\n",
       "Nivel_educativo                        object\n",
       "programas_formar_esta_ocupación        object\n",
       "instituciones_que_ofrecen_ programa    object\n",
       "Nivel_formación                        object\n",
       "Municipios_programa                    object\n",
       "Brecha_cantidad                        object\n",
       "dtype: object"
      ]
     },
     "execution_count": 5,
     "metadata": {},
     "output_type": "execute_result"
    }
   ],
   "source": [
    "datos.dtypes"
   ]
  },
  {
   "cell_type": "markdown",
   "metadata": {},
   "source": [
    "2. Limpiar datos nulos"
   ]
  },
  {
   "cell_type": "code",
   "execution_count": 6,
   "metadata": {},
   "outputs": [
    {
     "name": "stdout",
     "output_type": "stream",
     "text": [
      "Municipios                               0\n",
      "Ocupación_CIUO                           0\n",
      "Cargo_identificado                       0\n",
      "Nivel_educativo                          0\n",
      "programas_formar_esta_ocupación          0\n",
      "instituciones_que_ofrecen_ programa    137\n",
      "Nivel_formación                          0\n",
      "Municipios_programa                      0\n",
      "Brecha_cantidad                          0\n",
      "dtype: int64\n"
     ]
    }
   ],
   "source": [
    "#deteccion \n",
    "antes=datos.isna().sum()\n",
    "print(antes)"
   ]
  },
  {
   "cell_type": "code",
   "execution_count": 7,
   "metadata": {},
   "outputs": [],
   "source": [
    "#limpieza\n",
    "datos.dropna(inplace=True)\n",
    "despues=datos.isna().sum()"
   ]
  },
  {
   "cell_type": "markdown",
   "metadata": {},
   "source": [
    "3. extraer `carrera universitara` y ultima `institucion asistida  `"
   ]
  },
  {
   "cell_type": "code",
   "execution_count": 8,
   "metadata": {},
   "outputs": [],
   "source": [
    "carreras = list(map(lambda dato: dato.split(';')[1],datos['Nivel_educativo']))\n",
    "datos['estudios'] = carreras\n",
    "\n",
    "institucion = list(map(lambda dato: dato.split(';')[-1],datos['instituciones_que_ofrecen_ programa']))\n",
    "datos['institucion_programa'] = institucion\n"
   ]
  },
  {
   "cell_type": "code",
   "execution_count": 9,
   "metadata": {},
   "outputs": [],
   "source": [
    "try:\n",
    "    datos.drop('Municipios',axis=1,inplace=True)\n",
    "    datos.drop('Nivel_educativo',axis=1,inplace=True)\n",
    "    datos.drop('instituciones_que_ofrecen_ programa',axis=1,inplace=True)\n",
    "except:pass"
   ]
  },
  {
   "cell_type": "code",
   "execution_count": 10,
   "metadata": {},
   "outputs": [
    {
     "data": {
      "text/html": [
       "<div>\n",
       "<style scoped>\n",
       "    .dataframe tbody tr th:only-of-type {\n",
       "        vertical-align: middle;\n",
       "    }\n",
       "\n",
       "    .dataframe tbody tr th {\n",
       "        vertical-align: top;\n",
       "    }\n",
       "\n",
       "    .dataframe thead th {\n",
       "        text-align: right;\n",
       "    }\n",
       "</style>\n",
       "<table border=\"1\" class=\"dataframe\">\n",
       "  <thead>\n",
       "    <tr style=\"text-align: right;\">\n",
       "      <th></th>\n",
       "      <th>Ocupación_CIUO</th>\n",
       "      <th>Cargo_identificado</th>\n",
       "      <th>programas_formar_esta_ocupación</th>\n",
       "      <th>Nivel_formación</th>\n",
       "      <th>Municipios_programa</th>\n",
       "      <th>Brecha_cantidad</th>\n",
       "      <th>estudios</th>\n",
       "      <th>institucion_programa</th>\n",
       "    </tr>\n",
       "  </thead>\n",
       "  <tbody>\n",
       "    <tr>\n",
       "      <th>0</th>\n",
       "      <td>2529.PROFESIONALES EN BASES DE DATOS Y EN REDE...</td>\n",
       "      <td>ADMINISTRADOR DE BASES DE DATOS</td>\n",
       "      <td>TECNOLOGÍA EN ANALISIS Y DESARROLLO DE SISTEMA...</td>\n",
       "      <td>TECNÓLOGO</td>\n",
       "      <td>MEDELLÍN</td>\n",
       "      <td>NO EXISTE BRECHA DE CANTIDAD</td>\n",
       "      <td>TECNOLOGÍA EN SISTEMAS DE INFORMACIÓN</td>\n",
       "      <td>SERVICIO NACIONAL DE APRENDIZAJE-SENA-</td>\n",
       "    </tr>\n",
       "    <tr>\n",
       "      <th>1</th>\n",
       "      <td>2529.PROFESIONALES EN BASES DE DATOS Y EN REDE...</td>\n",
       "      <td>ADMINISTRADOR DE BASES DE DATOS</td>\n",
       "      <td>TECNOLOGÍA EN ANALISIS Y DESARROLLO DE SISTEMA...</td>\n",
       "      <td>TECNÓLOGO</td>\n",
       "      <td>MANIZALES</td>\n",
       "      <td>TECNÓLOGO;TECNOLOGÍA EN DESARROLLO DE APLICACI...</td>\n",
       "      <td>TECNOLOGÍA EN SISTEMAS DE INFORMACIÓN</td>\n",
       "      <td>UNIVERSIDAD DE CALDAS</td>\n",
       "    </tr>\n",
       "  </tbody>\n",
       "</table>\n",
       "</div>"
      ],
      "text/plain": [
       "                                      Ocupación_CIUO  \\\n",
       "0  2529.PROFESIONALES EN BASES DE DATOS Y EN REDE...   \n",
       "1  2529.PROFESIONALES EN BASES DE DATOS Y EN REDE...   \n",
       "\n",
       "                Cargo_identificado  \\\n",
       "0  ADMINISTRADOR DE BASES DE DATOS   \n",
       "1  ADMINISTRADOR DE BASES DE DATOS   \n",
       "\n",
       "                     programas_formar_esta_ocupación Nivel_formación  \\\n",
       "0  TECNOLOGÍA EN ANALISIS Y DESARROLLO DE SISTEMA...       TECNÓLOGO   \n",
       "1  TECNOLOGÍA EN ANALISIS Y DESARROLLO DE SISTEMA...       TECNÓLOGO   \n",
       "\n",
       "  Municipios_programa                                    Brecha_cantidad  \\\n",
       "0            MEDELLÍN                       NO EXISTE BRECHA DE CANTIDAD   \n",
       "1           MANIZALES  TECNÓLOGO;TECNOLOGÍA EN DESARROLLO DE APLICACI...   \n",
       "\n",
       "                                estudios  \\\n",
       "0  TECNOLOGÍA EN SISTEMAS DE INFORMACIÓN   \n",
       "1  TECNOLOGÍA EN SISTEMAS DE INFORMACIÓN   \n",
       "\n",
       "                     institucion_programa  \n",
       "0  SERVICIO NACIONAL DE APRENDIZAJE-SENA-  \n",
       "1                   UNIVERSIDAD DE CALDAS  "
      ]
     },
     "execution_count": 10,
     "metadata": {},
     "output_type": "execute_result"
    }
   ],
   "source": [
    "datos.head(2)"
   ]
  },
  {
   "cell_type": "markdown",
   "metadata": {},
   "source": [
    "### Analsis de datos\n",
    "****\n",
    "1. Distribucion de cargos actuales de TI según el municipio\n",
    "2. Relacion de numero de estudiantes por municipio según su nivel academico\n",
    "3. Distirbucion de los estudiantes a la hora de escoger institución"
   ]
  },
  {
   "cell_type": "markdown",
   "metadata": {},
   "source": [
    "#### **1. Distribucion de cargos actuales de `TI` según el `municipio`**\n",
    "****\n",
    "para dar inicio a los posteriores analsis debemos preguntarnos que ¿clase de persona estan tomando los distintos cursos de tecnologia?, es to con el fin de identificar lo siguiente:\n",
    "\n",
    "1. Ya tenian un previo conocimiento de las tecnolgoi en su trabajo\n",
    "2. que tanta relacion tiene su trabajo con respecto al area de la tecnologia\n",
    "3. Clasificar los estudiantes por area de trabajo segun su departamento"
   ]
  },
  {
   "cell_type": "code",
   "execution_count": 11,
   "metadata": {},
   "outputs": [
    {
     "data": {
      "application/vnd.jupyter.widget-view+json": {
       "model_id": "0dd719270a884396974955479454f87c",
       "version_major": 2,
       "version_minor": 0
      },
      "text/plain": [
       "interactive(children=(Dropdown(description='escoger municipio:', options=('MEDELLÍN', 'MANIZALES', 'BOGOTÁ', '…"
      ]
     },
     "metadata": {},
     "output_type": "display_data"
    },
    {
     "data": {
      "text/plain": [
       "<function __main__.draw_pie(columna)>"
      ]
     },
     "execution_count": 11,
     "metadata": {},
     "output_type": "execute_result"
    }
   ],
   "source": [
    "dop1= widgets.Dropdown(\n",
    "    options=datos['Municipios_programa'].unique(),\n",
    "    values=datos['Municipios_programa'],\n",
    "    description='escoger municipio:'\n",
    ")\n",
    "def draw_pie(columna):\n",
    "    plt.figure(facecolor='white',figsize=(12,12))\n",
    "    # plt.title('Distibucion del municipio en el sector tecnologico')\n",
    "    plt.pie(datos.loc[datos['Municipios_programa'] == columna].groupby(['Cargo_identificado'])['Cargo_identificado'].count(),labels=datos.loc[datos['Municipios_programa'] == columna]['Cargo_identificado'].unique(),autopct=\"%0.1f %%\",rotatelabels=True)\n",
    "    \n",
    "    prob_municipio=sum(datos.loc[datos['Municipios_programa'] == columna]['Cargo_identificado'].value_counts()/len(datos))\n",
    "    print('peso en porcentaje: ',int(prob_municipio*100),' %')\n",
    "    print('Total de cargos: ',sum((datos.loc[datos['Municipios_programa'] == columna]['Cargo_identificado'].value_counts()/len(datos))*len(datos)))\n",
    "    print(f'\\nCargo \\t\\t Cantidad de estudiantes\\n')\n",
    "    print(((datos.loc[datos['Municipios_programa'] == columna]['Cargo_identificado'].value_counts()/len(datos))*len(datos)).sort_values(ascending=False))\n",
    "    \n",
    "widgets.interact(draw_pie,columna=dop1)"
   ]
  },
  {
   "cell_type": "markdown",
   "metadata": {},
   "source": [
    "**Concluciones:** Como podemos evidenciar a primera vista es el alcanze del proyecto del `Mictic` donde aunque se esta haciendo fuerza para que mas colombianos entren al area del TI, la mayor parte de los ciudadanos, son pertenecientes a las ciudades grandes, por ende estamos reflejar la falta de alfabetización digital  que tenemos en los distintos municipios con respecto al area tanto de estudio como de trabajo."
   ]
  },
  {
   "cell_type": "markdown",
   "metadata": {},
   "source": [
    "#### **2. Relacion de numero de estudiantes por municipio según su ``nivel academico``**\n",
    "***\n",
    "Ahora que ya sabemos en que laburan los estudiantes que tomaron los distintos beneficios del `Mintic`, la pregunta optima a conocer es ¿Con que grado de estudio estan llegando a tomar los cursos de el `Mintic`?; esto con el fin de entender que grado de complejidad en cuanto a tecnologia estan manejando los distintos departamentos y sobre todo como se pueden adaptar los cursos para que estos nosean repetitivos o aburridos.  \n"
   ]
  },
  {
   "cell_type": "code",
   "execution_count": 12,
   "metadata": {},
   "outputs": [
    {
     "data": {
      "application/vnd.jupyter.widget-view+json": {
       "model_id": "48eaaf1816234d088eb3e00dbf874cd5",
       "version_major": 2,
       "version_minor": 0
      },
      "text/plain": [
       "interactive(children=(Dropdown(description='por formacion', options=('TECNÓLOGO', 'UNIVERSITARIO', 'TÉCNICO', …"
      ]
     },
     "metadata": {},
     "output_type": "display_data"
    },
    {
     "data": {
      "text/plain": [
       "<function __main__.draw_bar(column)>"
      ]
     },
     "execution_count": 12,
     "metadata": {},
     "output_type": "execute_result"
    }
   ],
   "source": [
    "dop2=widgets.Dropdown(\n",
    "    options=datos['Nivel_formación'].unique(),\n",
    "    values=datos['Nivel_formación'],\n",
    "    description='por formacion'\n",
    ")\n",
    "def draw_bar(column):\n",
    "    plt.figure(facecolor='white',figsize=(12,12))\n",
    "    plt.title('Relacion de numero de estudiantes por municipio según su nivel academico')\n",
    "    sns.barplot(y=datos.loc[datos['Nivel_formación']==column]['Municipios_programa'].unique(),x='Ocupación_CIUO',data=datos.loc[datos['Nivel_formación']==column].groupby(['Municipios_programa']).count())\n",
    "    print(((datos.loc[datos['Nivel_formación'] == column]['Nivel_formación'].value_counts()/len(datos))*len(datos)).sort_values(ascending=False))\n",
    "widgets.interact(draw_bar,column=dop2)"
   ]
  },
  {
   "cell_type": "markdown",
   "metadata": {},
   "source": [
    "#### **3. Distirbucion de los estudiantes a la hora de escoger institución**\n",
    "***\n",
    "Por ultimo analizaremos que insiticuioens suelen escoger mas los estudantes de los distintos departamentos (`Grafica de brras:Figura 1`) y tambien observaremos como afecta su decicion frente a las otras intiticuiones."
   ]
  },
  {
   "cell_type": "code",
   "execution_count": 13,
   "metadata": {},
   "outputs": [
    {
     "data": {
      "text/plain": [
       "dict_values([0.024793388429752067, 0.01928374655647383, 0.013774104683195593, 0.013774104683195593, 0.011019283746556474, 0.005509641873278237, 0.0027548209366391185, 0.0027548209366391185])"
      ]
     },
     "execution_count": 13,
     "metadata": {},
     "output_type": "execute_result"
    }
   ],
   "source": [
    "dict((datos.loc[datos['Municipios_programa'] == 'CALI']['institucion_programa'].value_counts()/len(datos)).sort_values(ascending=False)).values()"
   ]
  },
  {
   "cell_type": "code",
   "execution_count": 18,
   "metadata": {},
   "outputs": [
    {
     "data": {
      "application/vnd.jupyter.widget-view+json": {
       "model_id": "6465a444f181407583151a506b9aac75",
       "version_major": 2,
       "version_minor": 0
      },
      "text/plain": [
       "interactive(children=(Dropdown(description='Departamento', options=('MEDELLÍN', 'MANIZALES', 'BOGOTÁ', 'BUCARA…"
      ]
     },
     "metadata": {},
     "output_type": "display_data"
    },
    {
     "data": {
      "text/plain": [
       "<function __main__.draw_plot(column)>"
      ]
     },
     "execution_count": 18,
     "metadata": {},
     "output_type": "execute_result"
    }
   ],
   "source": [
    "dop3 =widgets.Dropdown(\n",
    "    options=datos['Municipios_programa'].unique(),\n",
    "    values=datos['estudios'],\n",
    "    description='Departamento'\n",
    ")\n",
    "def draw_plot(column):\n",
    "    _,(axis1,axis2) = plt.subplots(2,1,figsize=(20,12))\n",
    "    \n",
    "    dicc = dict([(datos['institucion_programa'].unique()[x],x) for x in range(len(datos['institucion_programa'].unique()))])\n",
    "    # enunciado=[dicc[x] for x in datos.loc[datos['Municipios_programa'] ==column]['institucion_programa']]\n",
    "    enunciado =dict(datos.loc[datos['Municipios_programa'] == column]['institucion_programa'].value_counts()/len(datos)).values()\n",
    "    plt.title('Probabilidad de distrubucion entre los distinstos programas')\n",
    "    sns.distplot(x=list(enunciado),ax=axis2,vertical=False,label=['Distribucion  % de los estudiantes'],rug=True)\n",
    "\n",
    "    #indice 2\n",
    "    sns.barplot(x=datos[datos['Municipios_programa']==column].groupby(['institucion_programa'])['estudios'].count(),y=datos.loc[datos['Municipios_programa']==column]['institucion_programa'].unique(),ax=axis1)\n",
    "    print(((datos.loc[datos['Municipios_programa'] == column]['institucion_programa'].value_counts()/len(datos))).sort_values(ascending=False))\n",
    "    plt.legend()\n",
    "\n",
    "widgets.interact(draw_plot,column=dop3)"
   ]
  },
  {
   "cell_type": "markdown",
   "metadata": {},
   "source": [
    "\n",
    "**Conclucion Figura 1:** Como podemos evidenciar, en la grafica nos muestra cuales son las institicuiones mas escogidas por los estudiantes de la `Mintic`, esto no permite determinar el nivel de formacion de dichos estudiantes en cada departamento."
   ]
  },
  {
   "cell_type": "markdown",
   "metadata": {},
   "source": [
    "**Conclucion Figura2:** Como segunda conclucion podemos evidenciar como esta la distribucion de todas las institicuiones y determinar dos cosas.\n",
    "1. Nos demostrara el Indice de popuralidad de las carreras `TI` (mirese la orientacion de la grafica en el eje x)\n",
    "\n",
    "2. Indice necesario para alcanzar la normal o la media en los datos, es decir, nos dira como influye el que los estudiantes escoja una instutcion frente a la otra tanto por cuestion de popularidad , como cuestiodn de nivel de programa.(mirese el eje y tambien - llamado eje de `Descidad` )"
   ]
  }
 ],
 "metadata": {
  "kernelspec": {
   "display_name": "Python 3.10.6 64-bit",
   "language": "python",
   "name": "python3"
  },
  "language_info": {
   "codemirror_mode": {
    "name": "ipython",
    "version": 3
   },
   "file_extension": ".py",
   "mimetype": "text/x-python",
   "name": "python",
   "nbconvert_exporter": "python",
   "pygments_lexer": "ipython3",
   "version": "3.10.6"
  },
  "orig_nbformat": 4,
  "vscode": {
   "interpreter": {
    "hash": "bc7696eeafa34b5eae99a8ff85011d0682d74fe0e2a2436bba17f9270709e3f6"
   }
  }
 },
 "nbformat": 4,
 "nbformat_minor": 2
}
